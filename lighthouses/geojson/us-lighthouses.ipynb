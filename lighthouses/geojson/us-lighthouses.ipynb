{
 "cells": [
  {
   "cell_type": "code",
   "execution_count": 152,
   "metadata": {},
   "outputs": [],
   "source": [
    "# US Lighthouses showing marker clusters via ipyleaflet \n",
    "\n",
    "from ipyleaflet import (Map,basemaps, Marker, MarkerCluster)\n",
    "import geopandas as gpd\n"
   ]
  },
  {
   "cell_type": "code",
   "execution_count": 153,
   "metadata": {},
   "outputs": [],
   "source": [
    "# read lighthouses into a geopandas dataframe\n",
    "df = gpd.read_file(\"us-lighthouses.geojson\")"
   ]
  },
  {
   "cell_type": "code",
   "execution_count": 154,
   "metadata": {},
   "outputs": [],
   "source": [
    "# extract shapely Point objects to list of (x,y) tuples\n",
    "coord_list = [(y,x) for x,y in zip(df['geometry'].x , df['geometry'].y)]"
   ]
  },
  {
   "cell_type": "code",
   "execution_count": 155,
   "metadata": {},
   "outputs": [],
   "source": [
    "# convert coordinate list into tuple of leaflet Marker objects\n",
    "markers = tuple(Marker(location = point) for point in coord_list)"
   ]
  },
  {
   "cell_type": "code",
   "execution_count": 156,
   "metadata": {
    "scrolled": true
   },
   "outputs": [
    {
     "data": {
      "application/vnd.jupyter.widget-view+json": {
       "model_id": "12adce2c666940a5b53fc838eabfafe1",
       "version_major": 2,
       "version_minor": 0
      },
      "text/plain": [
       "Map(center=[31.51073, -96.4247], controls=(ZoomControl(options=['position', 'zoom_in_text', 'zoom_in_title', '…"
      ]
     },
     "metadata": {},
     "output_type": "display_data"
    }
   ],
   "source": [
    "# basemap\n",
    "m = Map(basemap=basemaps.OpenStreetMap.Mapnik, center=[31.51073, -96.4247], zoom=4)\n",
    "\n",
    "# add MarkerCluster\n",
    "m.add_layer(MarkerCluster(markers=markers))\n",
    "\n",
    "m"
   ]
  },
  {
   "cell_type": "code",
   "execution_count": null,
   "metadata": {},
   "outputs": [],
   "source": []
  }
 ],
 "metadata": {
  "kernelspec": {
   "display_name": "Python 3",
   "language": "python",
   "name": "python3"
  },
  "language_info": {
   "codemirror_mode": {
    "name": "ipython",
    "version": 3
   },
   "file_extension": ".py",
   "mimetype": "text/x-python",
   "name": "python",
   "nbconvert_exporter": "python",
   "pygments_lexer": "ipython3",
   "version": "3.6.10"
  }
 },
 "nbformat": 4,
 "nbformat_minor": 4
}
